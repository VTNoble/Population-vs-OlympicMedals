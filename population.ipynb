{
 "cells": [
  {
   "cell_type": "code",
   "execution_count": 1,
   "id": "b12fbacf",
   "metadata": {},
   "outputs": [],
   "source": [
    "import pandas as pd"
   ]
  },
  {
   "cell_type": "code",
   "execution_count": 71,
   "id": "1a63c663",
   "metadata": {},
   "outputs": [
    {
     "name": "stdout",
     "output_type": "stream",
     "text": [
      "['Afghanistan', 'Africa', 'Albania', 'Algeria', 'American Samoa', 'Angola', 'Antigua and Barbuda', 'Argentina', 'Armenia', 'Aruba', 'Asia & Oceania', 'Australia', 'Austria', 'Azerbaijan', 'Bahamas, The', 'Bahrain', 'Bangladesh', 'Barbados', 'Belarus', 'Belgium', 'Belize', 'Benin', 'Bermuda', 'Bhutan', 'Bolivia', 'Bosnia and Herzegovina', 'Botswana', 'Brazil', 'Brunei', 'Bulgaria', 'Burkina Faso', 'Burma (Myanmar)', 'Burundi', 'Cambodia', 'Cameroon', 'Canada', 'Cape Verde', 'Cayman Islands', 'Central & South America', 'Central African Republic', 'Chad', 'Chile', 'China', 'Colombia', 'Comoros', 'Congo (Brazzaville)', 'Congo (Kinshasa)', 'Cook Islands', 'Costa Rica', 'Cote dIvoire (IvoryCoast)', 'Croatia', 'Cuba', 'Cyprus', 'Czech Republic', 'Denmark', 'Djibouti', 'Dominica', 'Dominican Republic', 'Ecuador', 'Egypt', 'El Salvador', 'Equatorial Guinea', 'Eritrea', 'Estonia', 'Ethiopia', 'Eurasia', 'Europe', 'Falkland Islands (Islas Malvinas)', 'Faroe Islands', 'Fiji', 'Finland', 'Former Czechoslovakia', 'Former Serbia and Montenegro', 'Former U.S.S.R.', 'Former Yugoslavia', 'France', 'French Guiana', 'French Polynesia', 'Gabon', 'Gambia, The', 'Georgia', 'Germany', 'Germany, East', 'Germany, West', 'Ghana', 'Gibraltar', 'Greece', 'Greenland', 'Grenada', 'Guadeloupe', 'Guam', 'Guatemala', 'Guinea', 'Guinea-Bissau', 'Guyana', 'Haiti', 'Hawaiian Trade Zone', 'Honduras', 'Hong Kong', 'Hungary', 'Iceland', 'India', 'Indonesia', 'Iran', 'Iraq', 'Ireland', 'Israel', 'Italy', 'Jamaica', 'Japan', 'Jordan', 'Kazakhstan', 'Kenya', 'Kiribati', 'Korea, North', 'Korea, South', 'Kuwait', 'Kyrgyzstan', 'Laos', 'Latvia', 'Lebanon', 'Lesotho', 'Liberia', 'Libya', 'Lithuania', 'Luxembourg', 'Macau', 'Macedonia', 'Madagascar', 'Malawi', 'Malaysia', 'Maldives', 'Mali', 'Malta', 'Martinique', 'Mauritania', 'Mauritius', 'Mexico', 'Middle East', 'Moldova', 'Mongolia', 'Montenegro', 'Montserrat', 'Morocco', 'Mozambique', 'Namibia', 'Nauru', 'Nepal', 'Netherlands', 'Netherlands Antilles', 'New Caledonia', 'New Zealand', 'Nicaragua', 'Niger', 'Nigeria', 'Niue', 'North America', 'Norway', 'Oman', 'Pakistan', 'Palestine', 'Panama', 'Papua New Guinea', 'Paraguay', 'Peru', 'Philippines', 'Poland', 'Portugal', 'Puerto Rico', 'Qatar', 'Reunion', 'Romania', 'Russia', 'Rwanda', 'Saint Helena', 'Saint Kitts and Nevis', 'Saint Lucia', 'Saint Pierre and Miquelon', 'Saint Vincent/Grenadines', 'Samoa', 'Sao Tome and Principe', 'Saudi Arabia', 'Senegal', 'Serbia', 'Seychelles', 'Sierra Leone', 'Singapore', 'Slovakia', 'Slovenia', 'Solomon Islands', 'Somalia', 'South Africa', 'Spain', 'Sri Lanka', 'Sudan', 'Suriname', 'Swaziland', 'Sweden', 'Switzerland', 'Syria', 'Taiwan', 'Tajikistan', 'Tanzania', 'Thailand', 'Timor-Leste (East Timor)', 'Togo', 'Tonga', 'Trinidad and Tobago', 'Tunisia', 'Turkey', 'Turkmenistan', 'Turks and Caicos Islands', 'U.S. Pacific Islands', 'Uganda', 'Ukraine', 'United Arab Emirates', 'United Kingdom', 'United States', 'Uruguay', 'Uzbekistan', 'Vanuatu', 'Venezuela', 'Vietnam', 'Virgin Islands,  U.S.', 'Virgin Islands, British', 'Western Sahara', 'World', 'Yemen', 'Zambia', 'Zimbabwe']\n"
     ]
    }
   ],
   "source": [
    "# read in population data\n",
    "pop_df = pd.read_csv('Resources/population.csv')\n",
    "\n",
    "# # manually setting the country column\n",
    "pop_df.rename(columns={ pop_df.columns[0]: 'Country' }, inplace = True)\n",
    "\n",
    "# # setting the country column as index, otherwise the transpose doesn't work properly\n",
    "pop_df.set_index('Country', inplace=True)\n",
    "# pop_df\n",
    "# # # transpose the dataframe and assign variable as new dataframe (now transposed)\n",
    "pop_dfT = pop_df.T\n",
    "# pop_dfT.to_csv('test.csv')\n",
    "country_list = list(pop_dfT.stack().reset_index().Country.unique())\n",
    "country_list.sort()\n",
    "print(country_list)"
   ]
  },
  {
   "cell_type": "code",
   "execution_count": 73,
   "id": "51cd6714",
   "metadata": {},
   "outputs": [
    {
     "data": {
      "text/plain": [
       "1980    265.92182\n",
       "1981    268.11401\n",
       "1982    270.37541\n",
       "1983    272.79689\n",
       "1984    275.30423\n",
       "1985    277.78052\n",
       "1986     280.2583\n",
       "1987    282.67508\n",
       "1988    284.97091\n",
       "1989    286.40742\n",
       "1990    288.36232\n",
       "1991    289.94844\n",
       "1992           --\n",
       "1993           --\n",
       "1994           --\n",
       "1995           --\n",
       "1996           --\n",
       "1997           --\n",
       "1998           --\n",
       "1999           --\n",
       "2000           --\n",
       "2001           --\n",
       "2002           --\n",
       "2003           --\n",
       "2004           --\n",
       "2005           --\n",
       "2006           --\n",
       "2007           --\n",
       "2008           --\n",
       "2009           --\n",
       "2010           --\n",
       "Name: Former U.S.S.R., dtype: object"
      ]
     },
     "execution_count": 73,
     "metadata": {},
     "output_type": "execute_result"
    }
   ],
   "source": [
    "# drop the columns which contain the continent \"rollup\" population values as well as the world\n",
    "# rollup value\n",
    "pop_dfT['Former U.S.S.R.']"
   ]
  },
  {
   "cell_type": "code",
   "execution_count": 52,
   "id": "02c2aec1",
   "metadata": {},
   "outputs": [
    {
     "data": {
      "text/plain": [
       "1980    Bermuda\n",
       "1981    Bermuda\n",
       "1982    Bermuda\n",
       "1983    Bermuda\n",
       "1984    Bermuda\n",
       "1985    Bermuda\n",
       "1986    Bermuda\n",
       "1987    Bermuda\n",
       "1988    Bermuda\n",
       "1989    Bermuda\n",
       "1990    Bermuda\n",
       "1991    Bermuda\n",
       "1992    Bermuda\n",
       "1993    Bermuda\n",
       "1994    Bermuda\n",
       "1995    Bermuda\n",
       "1996    Bermuda\n",
       "1997    Bermuda\n",
       "1998    Bermuda\n",
       "1999    Bermuda\n",
       "2000    Bermuda\n",
       "2001    Bermuda\n",
       "2002    Bermuda\n",
       "2003    Bermuda\n",
       "2004    Bermuda\n",
       "2005    Bermuda\n",
       "2006    Bermuda\n",
       "2007    Bermuda\n",
       "2008    Bermuda\n",
       "2009    Bermuda\n",
       "2010    Bermuda\n",
       "dtype: object"
      ]
     },
     "execution_count": 52,
     "metadata": {},
     "output_type": "execute_result"
    }
   ],
   "source": [
    "pd.Series('Bermuda',index=pop_dfT.index)"
   ]
  },
  {
   "cell_type": "code",
   "execution_count": 75,
   "id": "e737d40d",
   "metadata": {},
   "outputs": [
    {
     "ename": "TypeError",
     "evalue": "append() got an unexpected keyword argument 'axis'",
     "output_type": "error",
     "traceback": [
      "\u001b[1;31m---------------------------------------------------------------------------\u001b[0m",
      "\u001b[1;31mTypeError\u001b[0m                                 Traceback (most recent call last)",
      "\u001b[1;32m~\\AppData\\Local\\Temp/ipykernel_4556/531891642.py\u001b[0m in \u001b[0;36m<module>\u001b[1;34m\u001b[0m\n\u001b[0;32m      2\u001b[0m \u001b[1;33m\u001b[0m\u001b[0m\n\u001b[0;32m      3\u001b[0m \u001b[1;32mfor\u001b[0m \u001b[0mcolumn\u001b[0m \u001b[1;32min\u001b[0m \u001b[0mpop_dfT\u001b[0m\u001b[1;33m.\u001b[0m\u001b[0mcolumns\u001b[0m\u001b[1;33m:\u001b[0m\u001b[1;33m\u001b[0m\u001b[1;33m\u001b[0m\u001b[0m\n\u001b[1;32m----> 4\u001b[1;33m     new_df = new_df.append(pd.concat([pop_dfT[column], pd.Series(column,index=pop_dfT.index)]), \n\u001b[0m\u001b[0;32m      5\u001b[0m                            \u001b[0mignore_index\u001b[0m\u001b[1;33m=\u001b[0m\u001b[1;32mTrue\u001b[0m\u001b[1;33m,\u001b[0m\u001b[1;33m\u001b[0m\u001b[1;33m\u001b[0m\u001b[0m\n\u001b[0;32m      6\u001b[0m                           axis=1)\n",
      "\u001b[1;31mTypeError\u001b[0m: append() got an unexpected keyword argument 'axis'"
     ]
    }
   ],
   "source": [
    "new_df = pd.DataFrame(index=pop_dfT.index)\n",
    "\n",
    "for column in pop_dfT.columns:\n",
    "    new_df = new_df.append(pd.concat([pop_dfT[column], pd.Series(column,index=pop_dfT.index)]), \n",
    "                           ignore_index=True,\n",
    "                          axis=1)\n",
    "\n",
    "new_df"
   ]
  }
 ],
 "metadata": {
  "kernelspec": {
   "display_name": "Python 3 (ipykernel)",
   "language": "python",
   "name": "python3"
  },
  "language_info": {
   "codemirror_mode": {
    "name": "ipython",
    "version": 3
   },
   "file_extension": ".py",
   "mimetype": "text/x-python",
   "name": "python",
   "nbconvert_exporter": "python",
   "pygments_lexer": "ipython3",
   "version": "3.9.7"
  }
 },
 "nbformat": 4,
 "nbformat_minor": 5
}
